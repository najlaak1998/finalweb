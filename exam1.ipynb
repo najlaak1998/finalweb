{
  "nbformat": 4,
  "nbformat_minor": 0,
  "metadata": {
    "colab": {
      "provenance": [],
      "authorship_tag": "ABX9TyNZ5pt4nPtK4gstZDKESQwV",
      "include_colab_link": true
    },
    "kernelspec": {
      "name": "python3",
      "display_name": "Python 3"
    },
    "language_info": {
      "name": "python"
    }
  },
  "cells": [
    {
      "cell_type": "markdown",
      "metadata": {
        "id": "view-in-github",
        "colab_type": "text"
      },
      "source": [
        "<a href=\"https://colab.research.google.com/github/najlaak1998/finalweb/blob/main/exam1.ipynb\" target=\"_parent\"><img src=\"https://colab.research.google.com/assets/colab-badge.svg\" alt=\"Open In Colab\"/></a>"
      ]
    },
    {
      "cell_type": "code",
      "execution_count": 14,
      "metadata": {
        "colab": {
          "base_uri": "https://localhost:8080/"
        },
        "id": "Byyi6dIGEXTX",
        "outputId": "8ce84337-d6f9-4b4f-e267-1b6688e58db3"
      },
      "outputs": [
        {
          "output_type": "stream",
          "name": "stdout",
          "text": [
            "enter the amount=500\n",
            "The Amount= 500.0\n",
            "enter number operater 1 for USD 2 for CD 3 for RS\n",
            "enter number currency=1\n",
            "700.0\n"
          ]
        }
      ],
      "source": [
        "#1)\n",
        "amount=float(input(\"enter the amount=\"))\n",
        "print(\"The Amount=\",amount)\n",
        "print(\"enter number operater 1 for USD 2 for CD 3 for RS\")\n",
        "currency=int(input(\"enter number currency=\"))\n",
        "dollar=0\n",
        "cd=0\n",
        "rs=0\n",
        "\n",
        "def USD(amount):\n",
        "    dollar=amount*1.4\n",
        "    print(dollar)\n",
        "def CD(amount):\n",
        "      cd=amount*2\n",
        "      print(cd)\n",
        "def RS(amount):\n",
        "    rs=amount*5\n",
        "    print(rs)\n",
        "\n",
        "if(currency==1):\n",
        "   USD(amount)\n",
        "\n",
        "elif(currency==2):\n",
        "   CD(amount)\n",
        "\n",
        "elif(currency==3):\n",
        "  RS(amount)\n",
        "\n"
      ]
    },
    {
      "cell_type": "code",
      "source": [
        "#2)\n",
        "num1=int(input(\"enter the number=\"))\n",
        "f=(num1*(9/5)+32)\n",
        "print(f,\"F\")\n"
      ],
      "metadata": {
        "colab": {
          "base_uri": "https://localhost:8080/"
        },
        "id": "C45uRRHrM42z",
        "outputId": "97f4bf8b-a06e-45a8-cff7-89084bf70575"
      },
      "execution_count": 11,
      "outputs": [
        {
          "output_type": "stream",
          "name": "stdout",
          "text": [
            "enter the number=0\n",
            "32.0 F\n"
          ]
        }
      ]
    },
    {
      "cell_type": "code",
      "source": [
        "name=input(\"enter the name:\")\n",
        "print(\"What your name:\",name)\n",
        "print(len(name))\n",
        "\n"
      ],
      "metadata": {
        "colab": {
          "base_uri": "https://localhost:8080/"
        },
        "id": "HpynxGlwOHFF",
        "outputId": "81372f6f-033e-49d8-80cb-40467645447f"
      },
      "execution_count": 13,
      "outputs": [
        {
          "output_type": "stream",
          "name": "stdout",
          "text": [
            "enter the name:نجلاء\n",
            "What your name: نجلاء\n",
            "5\n"
          ]
        }
      ]
    },
    {
      "cell_type": "code",
      "source": [
        "Country=input(\"enter the Country:\")\n",
        "Asia=[\"Japan\",\"India\",\"Iraq\",\"Jordan\",\"Kuwait\",\"Lebanon\",\"Oman\",\"Qatar\",\"South Korea\",\"Sri Lanka\",\"Syria\",\"Taiwan\",\"Tajikistan\",\"Thailand\",\"Turkey\",\"Turkmenistan\",\"United Arab Emirates\t\",\"Uzbekistan\",\"Vietnam\",\"Yemen\"]\n",
        "European=[\"Italy\",\"Spain\",\"Ukraine\",\"Romania\",\"Greece\"]\n",
        "\n",
        "if Country in Asia:\n",
        "  print(Country,\"in Asia\")\n",
        "elif Country in European:\n",
        "  print(Country,\"in European\")\n",
        "\n"
      ],
      "metadata": {
        "colab": {
          "base_uri": "https://localhost:8080/"
        },
        "id": "W1MC18ahOnuX",
        "outputId": "142d8a9b-1621-4e4a-d03d-56cf5c43e589"
      },
      "execution_count": 7,
      "outputs": [
        {
          "output_type": "stream",
          "name": "stdout",
          "text": [
            "enter the Country:Greece\n",
            "Greece in European\n"
          ]
        }
      ]
    }
  ]
}